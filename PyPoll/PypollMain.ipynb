{
 "cells": [
  {
   "cell_type": "code",
   "execution_count": 2,
   "metadata": {},
   "outputs": [],
   "source": [
    "import os\n",
    "\n",
    "import pandas as pd\n",
    "\n",
    "import csv"
   ]
  },
  {
   "cell_type": "code",
   "execution_count": 3,
   "metadata": {},
   "outputs": [],
   "source": [
    "data_file = os.path.join(\"PyPoll.csv\")\n",
    "\n",
    "Pypoll_df = pd.read_csv(data_file)"
   ]
  },
  {
   "cell_type": "code",
   "execution_count": 4,
   "metadata": {},
   "outputs": [
    {
     "data": {
      "text/html": [
       "<div>\n",
       "<style scoped>\n",
       "    .dataframe tbody tr th:only-of-type {\n",
       "        vertical-align: middle;\n",
       "    }\n",
       "\n",
       "    .dataframe tbody tr th {\n",
       "        vertical-align: top;\n",
       "    }\n",
       "\n",
       "    .dataframe thead th {\n",
       "        text-align: right;\n",
       "    }\n",
       "</style>\n",
       "<table border=\"1\" class=\"dataframe\">\n",
       "  <thead>\n",
       "    <tr style=\"text-align: right;\">\n",
       "      <th></th>\n",
       "      <th>Voter ID</th>\n",
       "      <th>County</th>\n",
       "      <th>Candidate</th>\n",
       "    </tr>\n",
       "  </thead>\n",
       "  <tbody>\n",
       "    <tr>\n",
       "      <td>0</td>\n",
       "      <td>12864552</td>\n",
       "      <td>Marsh</td>\n",
       "      <td>Khan</td>\n",
       "    </tr>\n",
       "  </tbody>\n",
       "</table>\n",
       "</div>"
      ],
      "text/plain": [
       "   Voter ID County Candidate\n",
       "0  12864552  Marsh      Khan"
      ]
     },
     "execution_count": 4,
     "metadata": {},
     "output_type": "execute_result"
    }
   ],
   "source": [
    "Pypoll_df.head(1)"
   ]
  },
  {
   "cell_type": "code",
   "execution_count": 5,
   "metadata": {},
   "outputs": [
    {
     "name": "stdout",
     "output_type": "stream",
     "text": [
      "Total Votes: 3521001\n"
     ]
    }
   ],
   "source": [
    "#The total number of votes cast\n",
    "\n",
    "unique = Pypoll_df[\"Voter ID\"].unique()\n",
    "\n",
    "#print(Pypoll_df.shape)\n",
    "\n",
    "print(\"Total Votes: \" + str(len(unique)))"
   ]
  },
  {
   "cell_type": "code",
   "execution_count": 6,
   "metadata": {},
   "outputs": [
    {
     "name": "stdout",
     "output_type": "stream",
     "text": [
      "['Khan' 'Correy' 'Li' \"O'Tooley\"]\n"
     ]
    }
   ],
   "source": [
    "#A complete list of candidates who received votes\n",
    "\n",
    "candidates = Pypoll_df[\"Candidate\"].unique()\n",
    "\n",
    "print(candidates)"
   ]
  },
  {
   "cell_type": "code",
   "execution_count": 7,
   "metadata": {},
   "outputs": [
    {
     "name": "stdout",
     "output_type": "stream",
     "text": [
      "Khan's vote count is 2218231\n",
      "Correy's vote count is 704200\n",
      "Li's vote count is 492940\n",
      "O'Tooley's vote count is 105630\n"
     ]
    }
   ],
   "source": [
    "#The total number of votes each candidate won\n",
    "\n",
    "# cond = (Pypoll_df[\"Candidate\"] == \"Khan\")\n",
    "# print(len(cond))\n",
    "\n",
    "Khan_votecount = len(Pypoll_df[Pypoll_df[\"Candidate\"] == \"Khan\"])\n",
    "\n",
    "Correy_votecount = len(Pypoll_df[Pypoll_df[\"Candidate\"] == \"Correy\"])\n",
    "\n",
    "Li_votecount = len(Pypoll_df[Pypoll_df[\"Candidate\"] == \"Li\"])\n",
    "\n",
    "O_Tooley_votecount = len(Pypoll_df[Pypoll_df[\"Candidate\"] == \"O'Tooley\"])\n",
    "\n",
    "\n",
    "print(\"Khan's vote count is \" + str(Khan_votecount))\n",
    "print(\"Correy's vote count is \" + str(Correy_votecount))\n",
    "print(\"Li's vote count is \" + str(Li_votecount))\n",
    "print(\"O'Tooley's vote count is \" + str(O_Tooley_votecount))\n"
   ]
  },
  {
   "cell_type": "code",
   "execution_count": 8,
   "metadata": {},
   "outputs": [
    {
     "name": "stdout",
     "output_type": "stream",
     "text": [
      "63%\n",
      "20%\n",
      "14%\n",
      "3%\n"
     ]
    }
   ],
   "source": [
    "#The percentage of votes each candidate won\n",
    "\n",
    "\n",
    "total_count = len(unique)\n",
    "\n",
    "              \n",
    "Khan_percent = (Khan_votecount/total_count) * 100\n",
    "\n",
    "Correy_percent = (Correy_votecount/total_count) * 100\n",
    "\n",
    "Li_percent = (Li_votecount/total_count) * 100\n",
    "\n",
    "O_Tooley_percent = (O_Tooley_votecount/total_count) * 100\n",
    "\n",
    "#---------------------------------------------------------------------\n",
    "\n",
    "print(str(round(Khan_percent)) + \"%\")\n",
    "print(str(round(Correy_percent)) + \"%\")\n",
    "print(str(round(Li_percent)) + \"%\")\n",
    "print(str(round(O_Tooley_percent)) + \"%\")\n"
   ]
  },
  {
   "cell_type": "code",
   "execution_count": 9,
   "metadata": {},
   "outputs": [
    {
     "name": "stdout",
     "output_type": "stream",
     "text": [
      "  Candidates  Voter Percentage\n",
      "0       Khan         63.000011\n",
      "1     Correy         19.999994\n",
      "2         Li         13.999996\n",
      "3   O'Tooley          2.999999\n"
     ]
    }
   ],
   "source": [
    "#The winner of the election based on popular vote\n",
    "\n",
    "Voter_df = pd.DataFrame({\n",
    "    \"Candidates\": [\"Khan\", \"Correy\", \"Li\", \"O'Tooley\"],\n",
    "    \"Voter Percentage\": [Khan_percent, Correy_percent, Li_percent, O_Tooley_percent]\n",
    "})\n",
    "\n",
    "print(Voter_df)\n",
    "\n"
   ]
  },
  {
   "cell_type": "code",
   "execution_count": 10,
   "metadata": {
    "scrolled": true
   },
   "outputs": [
    {
     "name": "stdout",
     "output_type": "stream",
     "text": [
      "election Results\n",
      "Total Votes: 3521001\n",
      "Khan: 63%  2218231\n",
      "Correy: 20%  704200\n",
      "Li: 14%  492940\n",
      "O'Tooley: 3%  105630\n",
      "  Candidates  Voter Percentage\n",
      "0       Khan         63.000011\n"
     ]
    }
   ],
   "source": [
    "#The winner of the election based on popular vote\n",
    "\n",
    "print(\"Election Results\")\n",
    "print(\"Total Votes: \" + str(len(unique)))\n",
    "\n",
    "print(\"Khan: \" + str(round(Khan_percent)) + \"%\" + '  ' + str(Khan_votecount))\n",
    "print(\"Correy: \" + str(round(Correy_percent)) + \"%\" + '  ' + str(Correy_votecount))\n",
    "print(\"Li: \" + str(round(Li_percent)) + \"%\" + '  ' + str(Li_votecount))\n",
    "print(\"O'Tooley: \" + str(round(O_Tooley_percent)) + \"%\" + '  ' + str(O_Tooley_votecount))\n",
    "\n",
    "popular_vote = (Voter_df[\"Voter Percentage\"] > 55)\n",
    "cols = [\"Candidates\", \"Voter Percentage\"]\n",
    "\n",
    "Winner_df = Voter_df.loc[popular_vote, cols]\n",
    "\n",
    "print(Winner_df)\n"
   ]
  },
  {
   "cell_type": "code",
   "execution_count": 16,
   "metadata": {},
   "outputs": [],
   "source": [
    "# data_file.saveAsTextFile(\"Poll_Results.csv\") \n",
    "\n",
    "header = \"Election Results\"\n",
    "Ttl_votes = \"Total Votes: \" + str(len(unique))\n",
    "\n",
    "Khan_percent_count = \"Khan: \" + str(round(Khan_percent)) + \"%\" + '  ' + str(Khan_votecount)\n",
    "Correy_percent_count = \"Correy: \" + str(round(Correy_percent)) + \"%\" + '  ' + str(Correy_votecount)\n",
    "Li_percent_count = \"Li: \" + str(round(Li_percent)) + \"%\" + '  ' + str(Li_votecount)\n",
    "O_Tooley_percent_count = \"O'Tooley: \" + str(round(O_Tooley_percent)) + \"%\" + '  ' + str(O_Tooley_votecount)\n",
    "\n",
    "winner = str(Winner_df)"
   ]
  },
  {
   "cell_type": "code",
   "execution_count": 18,
   "metadata": {},
   "outputs": [],
   "source": [
    "PypollAssignment = open(os.path.join(\"PPAssignment.txt\"), 'w')\n",
    "\n",
    "PypollAssignment.write(header + \"\\n\")\n",
    "PypollAssignment.write(Ttl_votes + \"\\n\")\n",
    "PypollAssignment.write(Khan_percent_count + \"\\n\")\n",
    "PypollAssignment.write(Correy_percent_count + \"\\n\")\n",
    "PypollAssignment.write(Li_percent_count + \"\\n\")\n",
    "PypollAssignment.write(O_Tooley_percent_count + \"\\n\")\n",
    "PypollAssignment.write(winner)\n",
    "\n",
    "PypollAssignment.close()"
   ]
  },
  {
   "cell_type": "code",
   "execution_count": null,
   "metadata": {},
   "outputs": [],
   "source": []
  }
 ],
 "metadata": {
  "kernelspec": {
   "display_name": "Python 3",
   "language": "python",
   "name": "python3"
  },
  "language_info": {
   "codemirror_mode": {
    "name": "ipython",
    "version": 3
   },
   "file_extension": ".py",
   "mimetype": "text/x-python",
   "name": "python",
   "nbconvert_exporter": "python",
   "pygments_lexer": "ipython3",
   "version": "3.7.4"
  }
 },
 "nbformat": 4,
 "nbformat_minor": 2
}
